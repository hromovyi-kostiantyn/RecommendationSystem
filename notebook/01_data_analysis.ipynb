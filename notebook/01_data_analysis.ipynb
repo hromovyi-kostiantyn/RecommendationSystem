{
 "cells": [
  {
   "cell_type": "markdown",
   "metadata": {},
   "source": [
    "# Аналіз датасету для рекомендаційної системи\n",
    "\n",
    "**Датасет**: 5 CSV файлів з транзакційними даними роздрібної торгівлі"
   ]
  },
  {
   "cell_type": "code",
   "metadata": {},
   "source": [
    "import pandas as pd\n",
    "import numpy as np\n",
    "import matplotlib.pyplot as plt\n",
    "import seaborn as sns\n",
    "import warnings\n",
    "warnings.filterwarnings('ignore')\n",
    "\n",
    "# Load datasets\n",
    "data_path = '../data/datasets/'\n",
    "sales = pd.read_csv(data_path + 'g_fact_sales.csv')\n",
    "customers = pd.read_csv(data_path + 'g_dim_customers.csv')\n",
    "products = pd.read_csv(data_path + 'g_dim_products.csv')\n",
    "customer_report = pd.read_csv(data_path + 'Customer_report_cleaned_data.csv')\n",
    "product_report = pd.read_csv(data_path + 'Product_report_cleaned_data.csv')\n",
    "\n",
    "print(\"✅ Дані завантажено успішно\")"
   ],
   "outputs": [],
   "execution_count": null
  },
  {
   "cell_type": "markdown",
   "metadata": {},
   "source": [
    "## 1. Загальна характеристика датасету"
   ]
  },
  {
   "cell_type": "code",
   "metadata": {},
   "source": [
    "# Dataset overview\n",
    "datasets_info = {\n",
    "    'Продажі': sales.shape,\n",
    "    'Клієнти': customers.shape,\n",
    "    'Товари': products.shape,\n",
    "    'Звіт по клієнтах': customer_report.shape,\n",
    "    'Звіт по товарах': product_report.shape\n",
    "}\n",
    "\n",
    "print(\"СТРУКТУРА ДАТАСЕТУ\")\n",
    "print(\"=\" * 40)\n",
    "for name, shape in datasets_info.items():\n",
    "    print(f\"{name:<25}: {shape[0]:>6,} rows × {shape[1]:>2} cols\")\n",
    "\n"
   ],
   "outputs": [],
   "execution_count": null
  },
  {
   "cell_type": "markdown",
   "metadata": {},
   "source": [
    "## 2. Ключові метрики для рекомендаційної системи"
   ]
  },
  {
   "cell_type": "code",
   "metadata": {},
   "source": [
    "# Core metrics for recommendation system\n",
    "n_users = sales['customer_key'].nunique()\n",
    "n_items = sales['product_key'].nunique()\n",
    "n_transactions = len(sales)\n",
    "possible_interactions = n_users * n_items\n",
    "density = n_transactions / possible_interactions\n",
    "sparsity = 1 - density\n",
    "\n",
    "print(\"МЕТРИКИ ДЛЯ РЕКОМЕНДАЦІЙНОЇ СИСТЕМИ\")\n",
    "print(\"=\" * 45)\n",
    "print(f\"Унікальних користувачів: {n_users:,}\")\n",
    "print(f\"Унікальних товарів: {n_items:,}\")\n",
    "print(f\"Всього транзакцій: {n_transactions:,}\")\n",
    "print(f\"Щільність матриці: {density:.6f} ({density*100:.2f}%)\")\n",
    "print(f\"Розрідженість матриці: {sparsity:.6f} ({sparsity*100:.2f}%)\")\n",
    "\n",
    "if 'sales' in sales.columns:\n",
    "    print(f\"Загальна сума продажів: ${sales['sales'].sum():,.2f}\")\n",
    "    print(f\"Середній чек: ${sales['sales'].mean():.2f}\")"
   ],
   "outputs": [],
   "execution_count": null
  },
  {
   "cell_type": "markdown",
   "metadata": {},
   "source": [
    "## 3. Аналіз активності користувачів та популярності товарів"
   ]
  },
  {
   "cell_type": "code",
   "metadata": {},
   "source": [
    "# User activity and item popularity analysis\n",
    "user_activity = sales.groupby('customer_key').size()\n",
    "item_popularity = sales.groupby('product_key').size()\n",
    "\n",
    "n_users = len(user_activity)\n",
    "n_items = len(item_popularity)\n",
    "\n",
    "# Пороги для аналізу\n",
    "thresholds = [3, 4, 5]\n",
    "\n",
    "print(\"АНАЛІЗ АКТИВНОСТІ\")\n",
    "print(\"=\" * 50)\n",
    "\n",
    "# Користувачі\n",
    "print(\"КОРИСТУВАЧІ:\")\n",
    "for threshold in thresholds:\n",
    "    cold_users = (user_activity < threshold).sum()\n",
    "    active_users = (user_activity >= threshold).sum()\n",
    "    print(f\"   < {threshold} покупок: {cold_users:,} ({cold_users/n_users*100:.1f}%) | >= {threshold}: {active_users:,} ({active_users/n_users*100:.1f}%)\")\n",
    "\n",
    "# Товари\n",
    "cold_items = (item_popularity < 5).sum()\n",
    "active_items = (item_popularity >= 5).sum()\n",
    "print(f\"\\nТОВАРИ:\")\n",
    "print(f\"   < 5 покупок: {cold_items:,} ({cold_items/n_items*100:.1f}%) | >= 5: {active_items:,} ({active_items/n_items*100:.1f}%)\")\n",
    "\n",
    "# Середні значення\n",
    "print(f\"\\nСЕРЕДНІ ПОКАЗНИКИ:\")\n",
    "print(f\"   Користувач: {user_activity.mean():.2f} покупок\")\n",
    "print(f\"   Товар: {item_popularity.mean():.2f} покупок\")"
   ],
   "outputs": [],
   "execution_count": null
  },
  {
   "cell_type": "markdown",
   "metadata": {},
   "source": [
    "## 4. Сегментація клієнтів"
   ]
  },
  {
   "cell_type": "code",
   "metadata": {},
   "source": [
    "# Customer segmentation analysis\n",
    "if 'cust_segmentation' in customer_report.columns:\n",
    "    segments = customer_report['cust_segmentation'].value_counts()\n",
    "    print(\"СЕГМЕНТАЦІЯ КЛІЄНТІВ\")\n",
    "    print(\"=\" * 30)\n",
    "    for segment, count in segments.items():\n",
    "        print(f\"{segment}: {count:,} ({count/len(customer_report)*100:.2f}%)\")\n",
    "\n",
    "if 'age_group' in customer_report.columns:\n",
    "    age_groups = customer_report['age_group'].value_counts()\n",
    "    print(\"\\nВІКОВІ ГРУПИ\")\n",
    "    print(\"=\" * 20)\n",
    "    for age, count in age_groups.items():\n",
    "        print(f\"{age}: {count:,} ({count/len(customer_report)*100:.2f}%)\")"
   ],
   "outputs": [],
   "execution_count": null
  },
  {
   "cell_type": "markdown",
   "metadata": {},
   "source": [
    "## 5. Візуалізація ключових характеристик"
   ]
  },
  {
   "cell_type": "code",
   "metadata": {},
   "source": [
    "# Visualizations\n",
    "plt.rcParams['font.size'] = 10\n",
    "\n",
    "# 1. User activity distribution\n",
    "plt.figure(figsize=(8, 6))\n",
    "plt.hist(user_activity, bins=50, alpha=0.7, color='skyblue', edgecolor='black')\n",
    "plt.title('Розподіл активності користувачів')\n",
    "plt.xlabel('Кількість покупок')\n",
    "plt.ylabel('Кількість користувачів')\n",
    "plt.yscale('log')\n",
    "plt.tight_layout()\n",
    "plt.show()\n",
    "\n",
    "# 2. Item popularity distribution\n",
    "plt.figure(figsize=(8, 6))\n",
    "plt.hist(item_popularity, bins=50, alpha=0.7, color='lightcoral', edgecolor='black')\n",
    "plt.title('Розподіл за кількості покупок товару')\n",
    "plt.xlabel('Кількість покупок')\n",
    "plt.ylabel('Кількість товарів')\n",
    "plt.yscale('log')\n",
    "plt.tight_layout()\n",
    "plt.show()\n",
    "\n",
    "# 3. Customer segmentation pie chart\n",
    "plt.figure(figsize=(8, 6))\n",
    "if 'cust_segmentation' in customer_report.columns:\n",
    "    segments.plot(kind='pie', autopct='%1.1f%%', startangle=90)\n",
    "    plt.title('Сегментація клієнтів')\n",
    "    plt.ylabel('')\n",
    "plt.tight_layout()\n",
    "plt.show()\n",
    "\n",
    "# 4. Matrix sparsity visualization\n",
    "plt.figure(figsize=(8, 6))\n",
    "sparsity_data = [density*100, sparsity*100]\n",
    "labels = ['Заповнені взаємодії', 'Відсутні взаємодії']\n",
    "colors = ['lightgreen', 'lightgray']\n",
    "plt.pie(sparsity_data, labels=labels, autopct='%1.2f%%', colors=colors, startangle=90)\n",
    "plt.title('Розрідженість матриці взаємодій')\n",
    "plt.tight_layout()\n",
    "plt.show()"
   ],
   "outputs": [],
   "execution_count": null
  }
 ],
 "metadata": {
  "kernelspec": {
   "display_name": "Python 3",
   "language": "python",
   "name": "python3"
  },
  "language_info": {
   "codemirror_mode": {
    "name": "ipython",
    "version": 3
   },
   "file_extension": ".py",
   "mimetype": "text/x-python",
   "name": "python",
   "nbconvert_exporter": "python",
   "pygments_lexer": "ipython3",
   "version": "3.8.5"
  }
 },
 "nbformat": 4,
 "nbformat_minor": 4
}
